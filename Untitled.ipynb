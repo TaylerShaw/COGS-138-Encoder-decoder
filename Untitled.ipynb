{
 "cells": [
  {
   "cell_type": "code",
   "execution_count": 21,
   "metadata": {},
   "outputs": [],
   "source": [
    "import os\n",
    "import h5py\n",
    "import re\n",
    "from h5py import Group\n",
    "import pandas as pd\n",
    "import numpy as np\n",
    "\n",
    "#univariate analysis is it aversive or not"
   ]
  },
  {
   "cell_type": "code",
   "execution_count": 26,
   "metadata": {},
   "outputs": [],
   "source": [
    "def unpack_data(h5):\n",
    "\n",
    "    h5 = h5py.File(h5, 'r')\n",
    "\n",
    "    data_dict = {}\n",
    "\n",
    "    subj = list(h5['data'].keys())[0]\n",
    "    data_arrays = h5['data'][subj]['data_arrays']\n",
    "\n",
    "    for key in data_arrays.keys():\n",
    "\n",
    "            if isinstance(data_arrays[key]['data'], h5py._hl.dataset.Dataset):\n",
    "\n",
    "                data_dict[key] =  np.array(data_arrays[key]['data'])\n",
    "\n",
    "    return data_dict"
   ]
  },
  {
   "cell_type": "code",
   "execution_count": 27,
   "metadata": {},
   "outputs": [],
   "source": [
    "subject_1 = unpack_data('Data_Subject_01_Session_01.h5')\n",
    "subject_2 = unpack_data('Data_Subject_02_Session_01.h5')\n",
    "subject_3 = unpack_data('Data_Subject_03_Session_01.h5')\n",
    "subject_4 = unpack_data('Data_Subject_04_Session_01.h5')\n",
    "subject_5 = unpack_data('Data_Subject_05_Session_01.h5')\n",
    "subject_6 = unpack_data('Data_Subject_06_Session_01.h5')\n",
    "subject_7 = unpack_data('Data_Subject_07_Session_01.h5')\n",
    "subject_8 = unpack_data('Data_Subject_08_Session_01.h5')\n",
    "subject_9 = unpack_data('Data_Subject_09_Session_01.h5')\n",
    "\n"
   ]
  },
  {
   "cell_type": "code",
   "execution_count": 28,
   "metadata": {},
   "outputs": [],
   "source": [
    "neutral_trials = ['01', '03', '05', '07', '09', '11', '13', '15', '17']\n",
    "aversive_trials = ['02', '04', '06', '08', '10', '12', '14', '16']"
   ]
  },
  {
   "cell_type": "code",
   "execution_count": null,
   "metadata": {},
   "outputs": [],
   "source": []
  }
 ],
 "metadata": {
  "kernelspec": {
   "display_name": "Python 3",
   "language": "python",
   "name": "python3"
  },
  "language_info": {
   "codemirror_mode": {
    "name": "ipython",
    "version": 3
   },
   "file_extension": ".py",
   "mimetype": "text/x-python",
   "name": "python",
   "nbconvert_exporter": "python",
   "pygments_lexer": "ipython3",
   "version": "3.7.6"
  }
 },
 "nbformat": 4,
 "nbformat_minor": 4
}
